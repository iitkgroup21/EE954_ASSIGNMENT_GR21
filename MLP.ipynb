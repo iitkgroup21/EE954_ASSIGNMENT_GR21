{
 "cells": [
  {
   "cell_type": "markdown",
   "metadata": {
    "colab_type": "text",
    "id": "view-in-github"
   },
   "source": [
    "<a href=\"https://colab.research.google.com/github/iitkgroup21/EE954_ASSIGNMENT_GR21/blob/anup_e2e_eval/MLP.ipynb\" target=\"_parent\"><img src=\"https://colab.research.google.com/assets/colab-badge.svg\" alt=\"Open In Colab\"/></a>"
   ]
  },
  {
   "cell_type": "markdown",
   "metadata": {
    "id": "7zsArNX56W08"
   },
   "source": [
    "# About Dataset\n",
    "### Context\n",
    "\n",
    "Fashion-MNIST is a dataset of Zalando's article images—consisting of a training set of 60,000 examples and a test set of 10,000 examples. Each example is a 28x28 grayscale image, associated with a label from 10 classes. Zalando intends Fashion-MNIST to serve as a direct drop-in replacement for the original MNIST dataset for benchmarking machine learning algorithms. It shares the same image size and structure of training and testing splits.\n",
    "\n",
    "The original MNIST dataset contains a lot of handwritten digits. Members of the AI/ML/Data Science community love this dataset and use it as a benchmark to validate their algorithms. In fact, MNIST is often the first dataset researchers try. \"If it doesn't work on MNIST, it won't work at all\", they said. \"Well, if it does work on MNIST, it may still fail on others.\"\n",
    "\n",
    "Zalando seeks to replace the original MNIST dataset\n",
    "\n",
    "### Key Characteristics\n",
    "\n",
    "* **Image Resolution:** Each image in the MNIST dataset is 28x28 pixels, with a single color channel (grayscale).\n",
    "* **Number of Classes:** The dataset has 10 classes, representing the digits 0 through 9.\n",
    "* **Color Format:** Grayscale (1 channel), with pixel values ranging from 0 to 255 in the raw data. After applying transforms.ToTensor(), these values are scaled between 0 and 1.\n",
    "\n",
    "### Dataset Composition\n",
    "* **Training Set:** 60,000 images, used for training models.\n",
    "* **Test Set:** 10,000 images, used for evaluating model performance.\n",
    "\n",
    "### Typical Usage\n",
    "The dataset is often divided into three subsets for practical machine learning workflows:\n",
    "\n",
    "* **Training Set (90% of the original training data)**: Used for training the model on 54,000 images.\n",
    "* **Validation Set (10% of the original training data):** Used for tuning hyperparameters and preventing overfitting, with 6,000 images.\n",
    "* **Test Set (100% of the original Testing data):** Used for final evaluation, with 10,000 images.\n",
    "\n",
    "#### Labels\n",
    "\n",
    "Each training and test example is assigned to one of the following labels:\n",
    "\n",
    "* 0 T-shirt/top\n",
    "* 1 Trouser\n",
    "* 2 Pullover\n",
    "* 3 Dress\n",
    "* 4 Coat\n",
    "* 5 Sandal\n",
    "* 6 Shirt\n",
    "* 7 Sneaker\n",
    "* 8 Bag\n",
    "* 9 Ankle boot\n",
    "\n",
    "\n",
    "#### Transformation\n",
    "\n",
    "* **ToTensor:** Converts each image to a PyTorch tensor and scales the pixel values to the range [0, 1].\n"
   ]
  },
  {
   "cell_type": "markdown",
   "metadata": {
    "id": "XeEZavkak4L4"
   },
   "source": [
    "\n",
    "## Basic concepts of CNN model :\n",
    "\n",
    "A Convolutional Neural Network (ConvNet/CNN) is a Deep Learning algorithm that can take in an input image, assign importance (learnable weights and biases) to various aspects/objects in the image, and be able to differentiate one from the other.\n",
    "\n",
    "Three basic components to define a basic convolutional neural network.\n",
    "\n",
    "*   The Convolutional Layer\n",
    "*   The Pooling layer\n",
    "*   The Output layer\n",
    "\n",
    "![](https://media.licdn.com/dms/image/v2/D5612AQGOui8XZUZJSA/article-cover_image-shrink_600_2000/article-cover_image-shrink_600_2000/0/1680532048475?e=1735776000&v=beta&t=Evq_XWpAo5JDVF4dy5tw2L8E7KDUgYwDrKtnTi5Go_I)\n",
    "\n",
    "\n",
    "\n"
   ]
  },
  {
   "cell_type": "code",
   "execution_count": null,
   "metadata": {
    "id": "XRrx0T4pG07N"
   },
   "outputs": [],
   "source": [
    "#pip install wandb"
   ]
  },
  {
   "cell_type": "markdown",
   "metadata": {},
   "source": [
    "# Code Explanation\n",
    "\n",
    "## Importing Libraries\n",
    "- **numpy**: Library for numerical operations.\n",
    "- **matplotlib.pyplot**: Library for plotting graphs.\n",
    "- **pandas**: Library for data manipulation.\n",
    "- **wandb**: Library for experiment tracking and model management."
   ]
  },
  {
   "cell_type": "code",
   "execution_count": null,
   "metadata": {
    "colab": {
     "base_uri": "https://localhost:8080/"
    },
    "id": "U8NlkmDDc7gj",
    "outputId": "99b91389-f728-44c1-c12f-c02b7399d521"
   },
   "outputs": [],
   "source": [
    "import numpy as np\n",
    "import matplotlib.pyplot as plt\n",
    "import pandas as pd\n",
    "import wandb\n",
    "wandb.login()\n"
   ]
  },
  {
   "cell_type": "markdown",
   "metadata": {},
   "source": [
    "## Logging into Weights & Biases\n",
    "- Logs into Weights & Biases for tracking experiments and storing results."
   ]
  },
  {
   "cell_type": "code",
   "execution_count": null,
   "metadata": {
    "id": "Y6nONAFtdcae"
   },
   "outputs": [],
   "source": [
    "import torchvision.datasets as datasets\n",
    "import torchvision.transforms as transforms\n",
    "from torch.utils.data import DataLoader, random_split, TensorDataset\n",
    "import torch\n",
    "\n",
    "dataset_location = root = './data/'"
   ]
  },
  {
   "cell_type": "markdown",
   "metadata": {},
   "source": [
    "## Loading and Transforming Dataset\n",
    "- **torchvision.datasets**: Provides easy access to standard datasets.\n",
    "- **torchvision.transforms**: Provides common transformations.\n",
    "- **torch.utils.data**: Utility functions for data loading.\n"
   ]
  },
  {
   "cell_type": "code",
   "execution_count": null,
   "metadata": {
    "id": "FIfN45bsz0MR"
   },
   "outputs": [],
   "source": [
    "import torch\n",
    "import torch.nn as nn\n",
    "import torch.optim as optim\n",
    "import torchvision\n",
    "import torchvision.transforms as transforms\n",
    "import torch.nn.functional as F\n",
    "from torchsummary import summary"
   ]
  },
  {
   "cell_type": "markdown",
   "metadata": {},
   "source": [
    "## Data Preparation\n",
    "### Loading FashionMNIST Dataset\n",
    "- Loads the FashionMNIST dataset and applies the `ToTensor` transformation to convert images to PyTorch tensors."
   ]
  },
  {
   "cell_type": "code",
   "execution_count": null,
   "metadata": {
    "id": "m_LQ630yjnG1"
   },
   "outputs": [],
   "source": [
    "training_dataset = datasets.FashionMNIST(dataset_location,\n",
    "                               train=True,\n",
    "                               transform=transforms.ToTensor(),\n",
    "                               download=True)\n",
    "\n",
    "test_dataset = datasets.FashionMNIST(dataset_location,\n",
    "                              train=False,\n",
    "                              transform=transforms.ToTensor(),\n",
    "                              download=True)"
   ]
  },
  {
   "cell_type": "code",
   "execution_count": null,
   "metadata": {
    "colab": {
     "base_uri": "https://localhost:8080/"
    },
    "id": "qNDK4rqNphbu",
    "outputId": "d2dcd915-46f0-4541-b9c2-402479670744"
   },
   "outputs": [],
   "source": [
    "print(\"training dataset length =\", len(training_dataset))\n",
    "print(\"test dataset length =\", len(test_dataset))\n",
    "nc=10 #number of classes"
   ]
  },
  {
   "cell_type": "code",
   "execution_count": null,
   "metadata": {
    "id": "S9fkUzkjdsQo"
   },
   "outputs": [],
   "source": [
    "#concatenate the data so that we can\n",
    "combined_dataset = torch.utils.data.ConcatDataset([training_dataset, test_dataset])\n",
    "\n",
    "#Initializing the ratios for the test, training and validation datasets\n",
    "train_dataset_ratio = 0.9\n",
    "validation_dataset_ratio = 0.1\n",
    "test_dataset_ratio = 1.0 # This is applied to the full test data set\n",
    "\n",
    "#Initalizing the new values of the training, testing and validation data sizes\n",
    "train_dataset_size = int(train_dataset_ratio * len(training_dataset))\n",
    "test_dataset_size = int(test_dataset_ratio * len(test_dataset))\n",
    "validation_dataset_size = int(validation_dataset_ratio * len(training_dataset))\n",
    "\n",
    "#create the datasets with the sizes\n",
    "\n",
    "new_train_dataset, new_validation_dataset = torch.utils.data.random_split(training_dataset, [train_dataset_size, validation_dataset_size])\n",
    "#new_test_dataset = torch.utils.data.random_split(test_dataset, [test_dataset_size]) # This is a redundant step but will be useful if the ratios change"
   ]
  },
  {
   "cell_type": "code",
   "execution_count": null,
   "metadata": {
    "colab": {
     "base_uri": "https://localhost:8080/"
    },
    "id": "gHjl0HB7oEAX",
    "outputId": "8aef742c-5197-4124-f373-72921c787d19"
   },
   "outputs": [],
   "source": [
    "print(train_dataset_size)\n",
    "print(test_dataset_size)\n",
    "print(validation_dataset_size)\n",
    "print(combined_dataset.cumulative_sizes)\n",
    "print(len(new_train_dataset))\n",
    "#print(len(new_test_dataset))\n",
    "print(len(new_validation_dataset))"
   ]
  },
  {
   "cell_type": "code",
   "execution_count": null,
   "metadata": {
    "colab": {
     "base_uri": "https://localhost:8080/"
    },
    "id": "xEkpYtTjzg4n",
    "outputId": "04390d40-547b-4a73-c198-856e728326f4"
   },
   "outputs": [],
   "source": [
    "# @title\n",
    "sample_image, sample_label = new_train_dataset[0]\n",
    "print(\"Min pixel value:\", sample_image.min().item())\n",
    "print(\"Max pixel value:\", sample_image.max().item())\n"
   ]
  },
  {
   "cell_type": "markdown",
   "metadata": {},
   "source": [
    "## Model Definition\n",
    "### Custom Convolutional Neural Network\n",
    "- Defines a custom Convolutional Neural Network (CNN) with layers for convolution, batch normalization, activation, and pooling."
   ]
  },
  {
   "cell_type": "code",
   "execution_count": null,
   "metadata": {
    "id": "1wBPPGv_0Ihz"
   },
   "outputs": [],
   "source": [
    "class CustomModel(nn.Module):\n",
    "     def __init__(self):\n",
    "       super(CustomModel, self).__init__()\n",
    "       self.conv_layer = nn.Sequential(\n",
    "            nn.Conv2d(1, 16, kernel_size=3, padding=1),\n",
    "            nn.BatchNorm2d(num_features=16),\n",
    "            nn.ReLU(),\n",
    "            nn.MaxPool2d(2, 2),\n",
    "            nn.Conv2d(16, 32, kernel_size=3, padding=1),\n",
    "            nn.BatchNorm2d(num_features=32),\n",
    "            nn.ReLU(),\n",
    "            nn.MaxPool2d(2, 2),\n",
    "            nn.Conv2d(32, 64, kernel_size=3, padding=1),\n",
    "            nn.BatchNorm2d(num_features=64),\n",
    "            nn.ReLU(),\n",
    "            nn.MaxPool2d(2, 2),\n",
    "            nn.Conv2d(64, 128, kernel_size=3, padding=1),\n",
    "            nn.BatchNorm2d(num_features=128),\n",
    "            nn.ReLU(),\n",
    "            nn.Conv2d(128, 256, kernel_size=3, padding=1),\n",
    "            nn.BatchNorm2d(num_features=256),\n",
    "            nn.ReLU(),\n",
    "            )\n",
    "     def forward(self, x):\n",
    "            x = self.conv_layer(x)\n",
    "            return x"
   ]
  },
  {
   "cell_type": "code",
   "execution_count": null,
   "metadata": {
    "id": "81DeGjmd0QYL"
   },
   "outputs": [],
   "source": [
    "# Initialize DataLoaders to retrieve batches of data\n",
    "train_loader = DataLoader(new_train_dataset, batch_size=64, shuffle=True, drop_last=True)\n",
    "val_loader = DataLoader(new_validation_dataset, batch_size=64, shuffle=True, drop_last=True)\n",
    "test_loader = DataLoader(test_dataset, batch_size=64, shuffle=True, drop_last=False)"
   ]
  },
  {
   "cell_type": "markdown",
   "metadata": {},
   "source": [
    "## Fully Connected Neural Network\n",
    "### Neural Network Definition\n",
    "- Defines a fully connected neural network with methods for adding layers, displaying parameters, and performing forward passes."
   ]
  },
  {
   "cell_type": "code",
   "execution_count": null,
   "metadata": {
    "id": "GrL6AH5ZusFa"
   },
   "outputs": [],
   "source": [
    "#Fully connected layer\n",
    "class NeuralNetwork:\n",
    "\n",
    "    def __init__(self):\n",
    "      self.layers = []\n",
    "      self.activation_functions = []\n",
    "      self.layer_data = []\n",
    "      self.activations = []\n",
    "\n",
    "    def addnetwork(self, input_size, input_layers_config, output_layers_config):\n",
    "\n",
    "      #addition the first layer\n",
    "      neurons = input_size  # Same number of neurons as input size\n",
    "      activation = input_layers_config[0]['activation']\n",
    "      new_input_layers_config = []\n",
    "\n",
    "      first_layer_neuron = input_layers_config[0]['neurons']\n",
    "\n",
    "\n",
    "      # Initialize weights and biases for the first layer\n",
    "      weights = np.random.randn(input_size, first_layer_neuron)\n",
    "      bias = np.zeros((1, first_layer_neuron))\n",
    "\n",
    "      # Store layer information\n",
    "      self.layer_data.append({\n",
    "          \"Layer\": \"First Layer\",\n",
    "          \"Input Neurons\": input_size,\n",
    "          \"Output Neurons\": first_layer_neuron,\n",
    "          \"Weights\": weights.size,\n",
    "          \"Biases\": bias.size,\n",
    "          \"Total Parameters\": weights.size + bias.size\n",
    "      })\n",
    "\n",
    "      # Append weights, biases, and activation function to the model\n",
    "      #print(\"first layer weights =\", weights.shape)\n",
    "      #print(\"first layer bias =\", bias.shape)\n",
    "      self.layers.append((weights, bias))\n",
    "      self.activation_functions.append(activation)\n",
    "\n",
    "\n",
    "      current_input_size = first_layer_neuron\n",
    "\n",
    "      # Addition of hidden layers\n",
    "      #Initialize the weights and biases for the input layers\n",
    "      for i, layer in enumerate(input_layers_config[1:], start=1):\n",
    "        neurons = layer['neurons']\n",
    "        activation = layer['activation']\n",
    "\n",
    "        # Initialize weights and biases for the current layer\n",
    "        weights = np.random.randn(current_input_size, neurons)   # Weight initialization\n",
    "        bias = np.zeros((1, neurons))  # Bias initialization\n",
    "\n",
    "        # Store layer information\n",
    "        self.layer_data.append({\n",
    "          \"Layer\": f\"Hidden Layer {i+1}\",\n",
    "          \"Input Neurons\": current_input_size,\n",
    "          \"Output Neurons\": neurons,\n",
    "          \"Weights\": weights.size,\n",
    "          \"Biases\": bias.size,\n",
    "          \"Total Parameters\": weights.size + bias.size\n",
    "        })\n",
    "\n",
    "        # Append weights, biases, and activation function to the model\n",
    "        self.layers.append((weights, bias))\n",
    "        self.activation_functions.append(activation)\n",
    "\n",
    "        # Update current input size for next layer\n",
    "        current_input_size = neurons\n",
    "\n",
    "      # Addition of output layers\n",
    "      # Initialize weights and biases for the output layer\n",
    "      output_neurons = output_layers_config[0]['neurons']\n",
    "      output_activation = output_layers_config[0]['activation']\n",
    "\n",
    "\n",
    "      output_weights = np.random.randn(current_input_size, output_neurons)\n",
    "      output_bias = np.zeros((1, output_neurons))\n",
    "\n",
    "      self.layer_data.append({\n",
    "          \"Layer\": \"Output Layer\",\n",
    "          \"Input Neurons\": current_input_size,\n",
    "          \"Output Neurons\": output_neurons,\n",
    "          \"Weights\": output_weights.size,\n",
    "          \"Biases\": output_bias.size,\n",
    "          \"Total Parameters\": output_weights.size + output_bias.size\n",
    "        })\n",
    "\n",
    "      # Append output weights, biases, and activation function\n",
    "      self.layers.append((output_weights, output_bias))\n",
    "      self.activation_functions.append(output_activation)\n",
    "\n",
    "    def display_parameters(self):\n",
    "      df = pd.DataFrame(self.layer_data)\n",
    "      return df\n",
    "\n",
    "    def flatten(self, X):\n",
    "      batch_size = X.shape[0]\n",
    "      #Flatten each image/sample to a 1D vector\n",
    "      return X.reshape(batch_size, -1) # output(batch size, flattened size)\n",
    "\n",
    "    # Relu activation function\n",
    "    def relu(self, x):\n",
    "        return np.maximum(0, x)\n",
    "\n",
    "    # Derivative of Relu activation function\n",
    "    def relu_derivative(self, x):\n",
    "        return np.where(x > 0, 1, 0)\n",
    "\n",
    "    #Softmax function\n",
    "    def softmax(self, x):\n",
    "        exps = np.exp(x - np.max(x, axis=1, keepdims=True))\n",
    "\n",
    "        return exps / np.sum(exps, axis=1, keepdims=True)# Softmax activation\n",
    "\n",
    "\n",
    "    def feedforward(self, X):\n",
    "      self.activations = [X]  # Initialize with the input\n",
    "      for i, layer in enumerate(self.layers):\n",
    "        # Extract weights and biases for the current layer\n",
    "        weights, bias = layer\n",
    "        # Debugging shape of X and weights\n",
    "        #print(f\"Layer {i + 1}:\")\n",
    "        #print(f\"  Input X shape: {X.shape}\")\n",
    "        #print(f\"Weights shape: {weights.shape}\")\n",
    "        #print(f\"Bias shape: {bias.shape}\")\n",
    "        # Matrix multiplication and bias addition\n",
    "        X = np.dot(X, weights) + bias\n",
    "        # Apply activation function\n",
    "        if self.activation_functions[i] == 'relu':\n",
    "          X = self.relu(X)\n",
    "            #X = np.maximum(0, X)  # Using np.maximum for ReLU activation\n",
    "        elif self.activation_functions[i] == 'softmax':\n",
    "          X = self.softmax(X)\n",
    "\n",
    "        # Store the activation for each layer\n",
    "        self.activations.append(X)\n",
    "\n",
    "      yHat = X\n",
    "      return yHat\n",
    "\n",
    "    def compute_loss(self, yHat, y):\n",
    "      # Cross-entropy loss\n",
    "      m = y.shape[0]\n",
    "      loss = -np.sum(y * np.log(yHat + 1e-9)) / m\n",
    "      return loss\n",
    "\n",
    "\n",
    "    def backwardpass(self, X, y, yHat, learning_rate=0.01):\n",
    "      \"\"\"\n",
    "      print(\"shape of X\")\n",
    "      print(X.shape)\n",
    "      print(\"shape of y\")\n",
    "      print(y.shape)\n",
    "      print(\"shape of yHat\")\n",
    "      print(yHat.shape)\n",
    "      \"\"\"\n",
    "      m = y.shape[0]  # Number of examples in the batch\n",
    "      # Store the derivatives for each layer\n",
    "      gradients = []\n",
    "      # Compute the gradient for the output layer (softmax with cross-entropy loss)\n",
    "      dA = yHat - y  # Gradient of the loss with respect to output (yHat)\n",
    "      for i in reversed(range(len(self.layers))):\n",
    "          #print(f\"Backward pass round no: {i}\")\n",
    "          weights, bias = self.layers[i]\n",
    "          activation = self.activation_functions[i]\n",
    "\n",
    "          # Use the stored activation as the input to this layer\n",
    "          A_prev = self.activations[i]\n",
    "          \"\"\"\n",
    "          # Debugging shape of dA and current weights\n",
    "          print(f\"Layer {i + 1}:\")\n",
    "          print(f\"  dA shape: {dA.shape}\")\n",
    "          print(f\"  weights shape: {weights.shape}\")\n",
    "          print(f\"  bias shape: {bias.shape}\")\n",
    "          \"\"\"\n",
    "          # Calculate gradients with respect to weights, biases, and inputs for each layer\n",
    "          if activation == 'softmax':\n",
    "              dZ = dA  # dZ for softmax layer\n",
    "          elif activation == 'relu':\n",
    "              dZ = dA * self.relu_derivative(self.activations[i + 1])\n",
    "          # Calculate gradients for weights and biases\n",
    "          dW = np.dot(A_prev.T, dZ) / m\n",
    "          db = np.sum(dZ, axis=0, keepdims=True) / m\n",
    "          \"\"\"\n",
    "          # Debugging shapes of dW and db\n",
    "          print(f\"Layer {i + 1}:\")\n",
    "          print(f\"  A_prev shape: {A_prev.shape}\")\n",
    "          print(f\"  dA shape: {dA.shape}\")\n",
    "          print(f\"  dZ shape: {dZ.shape}\")\n",
    "          print(f\"  weights shape: {weights.shape}\")\n",
    "          print(f\"  dW shape: {dW.shape}\")\n",
    "          print(f\"  db shape: {db.shape}\")\n",
    "\n",
    "          # Check if shapes align before updating weights\n",
    "          if dW.shape != weights.shape:\n",
    "              raise ValueError(f\"Shape mismatch: dW shape {dW.shape} does not match weights shape {weights.shape}\")\n",
    "          if db.shape != bias.shape:\n",
    "              raise ValueError(f\"Shape mismatch: db shape {db.shape} does not match bias shape {bias.shape}\")\n",
    "          \"\"\"\n",
    "\n",
    "          # Update the weights and biases\n",
    "          weights -= learning_rate * dW\n",
    "          bias -= learning_rate * db\n",
    "          # Update the layer in the network with the new weights and biases\n",
    "          self.layers[i] = (weights, bias)\n",
    "          # Update dA for the next layer in the backpropagation process\n",
    "          dA = np.dot(dZ, weights.T)\n",
    "\n",
    "\n",
    "    def calculate_accuracy(self, yHat, y):\n",
    "        # Calculate accuracy based on predictions and true labels\n",
    "        pred_classes = np.argmax(yHat, axis=1)\n",
    "        true_classes = np.argmax(y, axis=1)\n",
    "        return np.mean(pred_classes == true_classes)\n",
    "\n",
    "\n"
   ]
  },
  {
   "cell_type": "code",
   "execution_count": null,
   "metadata": {
    "id": "3kMrxlMzzgtB"
   },
   "outputs": [],
   "source": [
    "input_layers_config = [\n",
    "    {'neurons': 128, 'activation': 'relu'},\n",
    "    #{'neurons': 64, 'activation': 'relu'},\n",
    "    #{'neurons': 32, 'activation': 'relu'}\n",
    "]\n",
    "output_layers_config = [\n",
    "    {'neurons': 10, 'activation': 'softmax'}\n",
    "]\n"
   ]
  },
  {
   "cell_type": "code",
   "execution_count": null,
   "metadata": {
    "id": "3bsMLISt7UKf"
   },
   "outputs": [],
   "source": [
    "# Moving model to GPU if available\n",
    "device = torch.device(\"cuda\" if torch.cuda.is_available() else \"cpu\")\n"
   ]
  },
  {
   "cell_type": "code",
   "execution_count": null,
   "metadata": {
    "colab": {
     "base_uri": "https://localhost:8080/",
     "height": 408
    },
    "id": "C_uE1VQNUK6B",
    "outputId": "f75ec6e8-36f7-4ec9-fc6f-eb76e234f410"
   },
   "outputs": [],
   "source": [
    "model = CustomModel().to(device)\n",
    "nn_network = NeuralNetwork()\n",
    "\n",
    "# Adding layers to the neural network outside the batch loop\n",
    "cnn_output_sample = next(iter(train_loader))[0]  # Get a sample batch to determine the shape\n",
    "cnn_output_sample = model(cnn_output_sample.to(device).type(torch.float32))\n",
    "cnn_output_np_sample = cnn_output_sample.cpu().detach().numpy()\n",
    "cnn_output_np_sample = nn_network.flatten(cnn_output_np_sample)\n",
    "\n",
    "# Adding layers to the neural network\n",
    "nn_network.addnetwork(input_size=cnn_output_np_sample.shape[1], input_layers_config=input_layers_config, output_layers_config=output_layers_config)\n",
    "\n",
    "wandb.init(\n",
    "    project=\"ee954_assignment_gr21\",\n",
    "    group=\"initial_hyperparameter_training\",\n",
    "    name=\"lr_0.0001_batch_64_epoch_max100\",\n",
    "    config={\n",
    "        \"learning_rate\": 0.0001,\n",
    "        \"epochs\": 60,\n",
    "        \"architecture\": \"CNN+MLP(from scratch)\",\n",
    "        \"dataset\": \"Fashion-MNIST\",\n",
    "        \"batch_size\": 64,\n",
    "    }\n",
    ")\n",
    "\n",
    "config = wandb.config\n",
    "\n",
    "# Training Hyperparameters\n",
    "learning_rate = config.learning_rate\n",
    "epochs = config.epochs\n",
    "\n",
    "wandb.watch(model, log=\"all\", log_freq=100)\n",
    "\n",
    "for epoch in range(epochs):\n",
    "  print(f\"Epoch {epoch + 1}/{epochs}\")\n",
    "\n",
    "  epoch_loss = 0\n",
    "  correct_predictions = 0\n",
    "  total_samples = 0\n",
    "  for i, (x_batch, y_batch) in enumerate( train_loader):\n",
    "\n",
    "    # Moving input data to the selected device\n",
    "    x_batch = x_batch.to(device)\n",
    "    y_batch = y_batch.to(device)\n",
    "\n",
    "    y_train = y_batch\n",
    "    y_train = F.one_hot(y_train, num_classes=nc)\n",
    "\n",
    "    x_batch = x_batch.type(torch.float32)\n",
    "\n",
    "    # Perform forward pass with x_batch\n",
    "    #print(\"x_batch\", x_batch.shape)\n",
    "    cnn_output = model(x_batch)\n",
    "    cnn_output_np = cnn_output.cpu().detach().numpy()\n",
    "    cnn_output_np = nn_network.flatten(cnn_output_np)\n",
    "\n",
    "    # Feedforward pass\n",
    "    yhat = nn_network.feedforward(cnn_output_np)\n",
    "\n",
    "    # Compute Loss (Cross-entropy for classification)\n",
    "\n",
    "    # Labels are in NumPy format\n",
    "    y_train = y_train.detach().cpu().numpy() if isinstance(y_train, torch.Tensor) else y_train\n",
    "\n",
    "    loss = nn_network.compute_loss(yhat, y_train)\n",
    "    epoch_loss += loss\n",
    "\n",
    "    # Calculate accuracy\n",
    "    predicted_labels = np.argmax(yhat, axis=1)\n",
    "    true_labels = y_batch.cpu().numpy()\n",
    "    batch_accuracy = (predicted_labels == true_labels).mean()\n",
    "    correct_predictions += (predicted_labels == true_labels).sum()\n",
    "    total_samples += y_batch.size(0)\n",
    "\n",
    "    wandb.log({\"batch_loss\": loss, \"batch accuracy\": batch_accuracy, \"epoch\": epoch})\n",
    "\n",
    "    # Backpropagation to update weights and bias\n",
    "    nn_network.backwardpass(cnn_output_np, y_train, yhat, learning_rate)\n",
    "\n",
    "    # Calculate and log epoch-level metrics to\n",
    "    epoch_loss /= len(train_loader)\n",
    "    epoch_accuracy = correct_predictions / total_samples\n",
    "    wandb.log({\"epoch_loss\": epoch_loss, \"epoch_accuracy\": epoch_accuracy, \"epoch\": epoch})\n",
    "\n",
    "\n",
    "\n",
    "# Retrieve and display the parameter DataFrame\n",
    "df = nn_network.display_parameters()\n",
    "print(\"Parameter Table for Neural Network:\")\n",
    "print(df)"
   ]
  },
  {
   "cell_type": "code",
   "execution_count": null,
   "metadata": {
    "colab": {
     "base_uri": "https://localhost:8080/",
     "height": 626
    },
    "id": "q8lI95KDnxBd",
    "outputId": "cbc52026-a52a-45a7-d260-e240809e47d5"
   },
   "outputs": [],
   "source": [
    "from sklearn.metrics import confusion_matrix, classification_report\n",
    "# Set model to evaluation mode\n",
    "model.eval()\n",
    "class_names = ['T-shirt/top', 'Trouser', 'Pullover', 'Dress', 'Coat',\n",
    "               'Sandal', 'Shirt', 'Sneaker', 'Bag', 'Ankle boot']\n",
    "\n",
    "all_preds = []\n",
    "all_labels = []\n",
    "\n",
    "# Disabling gradient calculations for evaluation\n",
    "with torch.no_grad():\n",
    "    correct = 0\n",
    "    total = 0\n",
    "    for x_test, y_test in test_loader:\n",
    "\n",
    "        # Move data to the selected device\n",
    "        x_test = x_test.to(device)\n",
    "        y_test = y_test.to(device)\n",
    "\n",
    "        # Forward pass through CNN\n",
    "        cnn_output_test = model(x_test.type(torch.float32))\n",
    "\n",
    "        # Convert to numpy and flatten if needed\n",
    "        cnn_output_test_np = nn_network.flatten(cnn_output_test.cpu().detach().numpy())\n",
    "\n",
    "\n",
    "        # Forward pass through fully connected network\n",
    "        y_pred = nn_network.feedforward(cnn_output_test_np)\n",
    "\n",
    "        # Calculate accuracy\n",
    "        predicted = np.argmax(y_pred, axis=1)\n",
    "        correct += (predicted == y_test.cpu().numpy()).sum()\n",
    "        total += y_test.size(0)\n",
    "\n",
    "        all_preds.extend(predicted)\n",
    "        all_labels.extend(y_test.cpu().numpy())\n",
    "\n",
    "# Print accuracy\n",
    "accuracy = 100 * correct / total\n",
    "print(f'Test Accuracy: {accuracy:.2f}%')\n",
    "\n",
    "# Calculate and print confusion matrix and classification report\n",
    "class_report = classification_report(all_labels, all_preds, target_names=class_names, zero_division=0)\n",
    "print(\"\\nClassification Report:\")\n",
    "print(class_report)\n",
    "\n",
    "pd.DataFrame(confusion_matrix(all_labels, all_preds),index=class_names, columns=class_names)\n",
    "\n",
    "wandb.finish()\n"
   ]
  },
  {
   "cell_type": "code",
   "execution_count": null,
   "metadata": {
    "colab": {
     "base_uri": "https://localhost:8080/"
    },
    "id": "qgbKAyRkt1b_",
    "outputId": "cc1c85cf-d5bd-4d12-ba17-972db4c25b03"
   },
   "outputs": [],
   "source": [
    "summary(model, input_size=(1, 28, 28))\n",
    "print(\"Output shape:\", cnn_output.shape)"
   ]
  }
 ],
 "metadata": {
  "colab": {
   "history_visible": true,
   "include_colab_link": true,
   "provenance": []
  },
  "kernelspec": {
   "display_name": "genai",
   "language": "python",
   "name": "python3"
  },
  "language_info": {
   "codemirror_mode": {
    "name": "ipython",
    "version": 3
   },
   "file_extension": ".py",
   "mimetype": "text/x-python",
   "name": "python",
   "nbconvert_exporter": "python",
   "pygments_lexer": "ipython3",
   "version": "3.11.8"
  }
 },
 "nbformat": 4,
 "nbformat_minor": 0
}
